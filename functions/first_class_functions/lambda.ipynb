{
 "cells": [
  {
   "cell_type": "code",
   "execution_count": 4,
   "metadata": {},
   "outputs": [],
   "source": [
    "# lamba expressions or annonymous functions\n",
    "# lambda [parameter list] : expression\n",
    "# yeh expressions aik function object return kerta hai\n",
    "# value tab return hota hai jab hum isse call kertay hai \n",
    "\n",
    "# lambda functions ka naam nahi hota isis liye isse \n",
    "# annonymous function kehtay hai"
   ]
  },
  {
   "cell_type": "code",
   "execution_count": 5,
   "metadata": {},
   "outputs": [
    {
     "data": {
      "text/plain": [
       "function"
      ]
     },
     "execution_count": 5,
     "metadata": {},
     "output_type": "execute_result"
    }
   ],
   "source": [
    "\n",
    "# lambda function examples\n",
    "lambda x: x **2 \n",
    "\n",
    "lambda x, y : x + y\n",
    "\n",
    "lambda s: s[::-1].upper() \n",
    "\n",
    "type(lambda x: x**2) # function\n",
    "\n",
    "# Note: lambda or annonymous function closures nahi hai. yeh normal functions\n",
    "# hain"
   ]
  },
  {
   "cell_type": "code",
   "execution_count": 6,
   "metadata": {},
   "outputs": [],
   "source": [
    "# lambda expression ki basic misal\n",
    "\n",
    "mera_func = lambda x: x**2\n",
    "\n",
    "# oper wala function same hai  jese kay:\n",
    "# def mera_func(x)\n",
    "#    return x**2\n",
    "# mera_func(3)"
   ]
  },
  {
   "cell_type": "code",
   "execution_count": 7,
   "metadata": {},
   "outputs": [
    {
     "data": {
      "text/plain": [
       "function"
      ]
     },
     "execution_count": 7,
     "metadata": {},
     "output_type": "execute_result"
    }
   ],
   "source": [
    "# function hi type() check kernay ka tareeqa\n",
    "\n",
    "type(mera_func)"
   ]
  },
  {
   "cell_type": "code",
   "execution_count": 8,
   "metadata": {},
   "outputs": [
    {
     "data": {
      "text/plain": [
       "<function __main__.<lambda>(x)>"
      ]
     },
     "execution_count": 8,
     "metadata": {},
     "output_type": "execute_result"
    }
   ],
   "source": [
    "mera_func"
   ]
  },
  {
   "cell_type": "code",
   "execution_count": 9,
   "metadata": {},
   "outputs": [
    {
     "data": {
      "text/plain": [
       "9"
      ]
     },
     "execution_count": 9,
     "metadata": {},
     "output_type": "execute_result"
    }
   ],
   "source": [
    "# function call\n",
    "\n",
    "mera_func(3)"
   ]
  },
  {
   "cell_type": "code",
   "execution_count": 10,
   "metadata": {},
   "outputs": [
    {
     "data": {
      "text/plain": [
       "9"
      ]
     },
     "execution_count": 10,
     "metadata": {},
     "output_type": "execute_result"
    }
   ],
   "source": [
    "# Inline functions - lambda func kafi mufeed tareeqa hai agar app nay\n",
    "# aik he line may function banana hai\n",
    "\n",
    "def mera_func(x, fn):\n",
    "  return fn(x)\n",
    "\n",
    "mera_func(3, lambda x: x**2)"
   ]
  },
  {
   "cell_type": "code",
   "execution_count": 11,
   "metadata": {},
   "outputs": [
    {
     "data": {
      "text/plain": [
       "'lifliflif'"
      ]
     },
     "execution_count": 11,
     "metadata": {},
     "output_type": "execute_result"
    }
   ],
   "source": [
    "# lambda expression ki misal\n",
    "\n",
    "mera_func('alif', lambda x: x[1:] * 3)"
   ]
  },
  {
   "cell_type": "code",
   "execution_count": 12,
   "metadata": {},
   "outputs": [
    {
     "data": {
      "text/plain": [
       "'0x7f3e9c701ee0'"
      ]
     },
     "execution_count": 12,
     "metadata": {},
     "output_type": "execute_result"
    }
   ],
   "source": [
    "# mera_func ka memory address\n",
    "\n",
    "hex(id(mera_func))"
   ]
  },
  {
   "cell_type": "code",
   "execution_count": 13,
   "metadata": {},
   "outputs": [],
   "source": [
    "# lambda may single expression hota hai.\n",
    "# lambda alif: alif = 5 ---> yeh incorrect hai. \n",
    "# app type annnotation bhi nahi istemal ker saktey jese kay lambda x: int: x**2\n",
    "# yeh aik single logical code hai.\n",
    "# app lambda ko variable ko assign ker sakte hai"
   ]
  },
  {
   "cell_type": "code",
   "execution_count": 14,
   "metadata": {},
   "outputs": [],
   "source": [
    "# higher order function - function ko app aik variable ko assign ker sakte hain\n",
    "\n",
    "app_ka_func = mera_func"
   ]
  },
  {
   "cell_type": "code",
   "execution_count": 15,
   "metadata": {},
   "outputs": [
    {
     "data": {
      "text/plain": [
       "('0x7f3e9c701ee0', '0x7f3e9c701ee0')"
      ]
     },
     "execution_count": 15,
     "metadata": {},
     "output_type": "execute_result"
    }
   ],
   "source": [
    "# Dono func aik memory location to point ker rahe hain\n",
    "\n",
    "hex(id(app_ka_func)), hex(id(mera_func))"
   ]
  },
  {
   "cell_type": "code",
   "execution_count": 16,
   "metadata": {},
   "outputs": [],
   "source": [
    "# App default parameter bhi set ker sakte hain\n",
    "g = lambda x, y = 10: x + y"
   ]
  },
  {
   "cell_type": "code",
   "execution_count": 17,
   "metadata": {},
   "outputs": [
    {
     "data": {
      "text/plain": [
       "<function __main__.<lambda>(x, y=10)>"
      ]
     },
     "execution_count": 17,
     "metadata": {},
     "output_type": "execute_result"
    }
   ],
   "source": [
    "g"
   ]
  },
  {
   "cell_type": "code",
   "execution_count": 18,
   "metadata": {},
   "outputs": [
    {
     "data": {
      "text/plain": [
       "11"
      ]
     },
     "execution_count": 18,
     "metadata": {},
     "output_type": "execute_result"
    }
   ],
   "source": [
    "g(1)"
   ]
  },
  {
   "cell_type": "code",
   "execution_count": 19,
   "metadata": {},
   "outputs": [
    {
     "data": {
      "text/plain": [
       "3"
      ]
     },
     "execution_count": 19,
     "metadata": {},
     "output_type": "execute_result"
    }
   ],
   "source": [
    "g(1, 2)"
   ]
  },
  {
   "cell_type": "code",
   "execution_count": 33,
   "metadata": {},
   "outputs": [],
   "source": [
    "# args aur kwargs \n",
    "f = lambda x, *args, y, **kwargs: (x, args, y, kwargs)"
   ]
  },
  {
   "cell_type": "markdown",
   "metadata": {},
   "source": [
    "Lambda Function: Ye ek lambda function hai jo aik short function define karta hai bina kisi naam ke.\n",
    "* Arguments:\n",
    "  * x: Pehla argument jo directly pass kiya jata hai.\n",
    "  * *args: Ye multiple positional arguments ko tuple ke form mein capture karta hai.\n",
    "  * y: Ye ek keyword argument hai jo must hai ke specify kiya jaye.\n",
    "  * **kwargs: Ye multiple keyword arguments ko dictionary ke form mein capture karta hai.\n",
    "* Return Value: Function aik tuple return karta hai jo x, args, y, aur kwargs ko include karta hai."
   ]
  },
  {
   "cell_type": "code",
   "execution_count": 21,
   "metadata": {},
   "outputs": [
    {
     "data": {
      "text/plain": [
       "(1, ('a',), 10, {'f': 10, 'b': 2})"
      ]
     },
     "execution_count": 21,
     "metadata": {},
     "output_type": "execute_result"
    }
   ],
   "source": [
    "f(1, 'a', y=10, f=10, b=2)"
   ]
  },
  {
   "cell_type": "code",
   "execution_count": 32,
   "metadata": {},
   "outputs": [
    {
     "data": {
      "text/plain": [
       "64"
      ]
     },
     "execution_count": 32,
     "metadata": {},
     "output_type": "execute_result"
    }
   ],
   "source": [
    "# Oper wale function ko app aise bhi likh sakte hai\n",
    "\n",
    "def aik_naya_func(fn, *args, **kwargs):\n",
    "  return fn(*args, **kwargs)\n",
    "\n",
    "aik_naya_func(lambda x, y: x ** 2, 8, y=3)"
   ]
  },
  {
   "cell_type": "code",
   "execution_count": 23,
   "metadata": {},
   "outputs": [
    {
     "data": {
      "text/plain": [
       "3"
      ]
     },
     "execution_count": 23,
     "metadata": {},
     "output_type": "execute_result"
    }
   ],
   "source": [
    "aik_naya_func(lambda x, y: x + y, 1, 2)"
   ]
  },
  {
   "cell_type": "code",
   "execution_count": 24,
   "metadata": {},
   "outputs": [
    {
     "data": {
      "text/plain": [
       "2"
      ]
     },
     "execution_count": 24,
     "metadata": {},
     "output_type": "execute_result"
    }
   ],
   "source": [
    "aik_naya_func(lambda x, *, y, z: x + 1, 1, y=20, z=20)"
   ]
  },
  {
   "cell_type": "code",
   "execution_count": 25,
   "metadata": {},
   "outputs": [
    {
     "data": {
      "text/plain": [
       "15"
      ]
     },
     "execution_count": 25,
     "metadata": {},
     "output_type": "execute_result"
    }
   ],
   "source": [
    "aik_naya_func(lambda *args: sum(args), 1,2 ,3 ,4,5)"
   ]
  },
  {
   "cell_type": "markdown",
   "metadata": {},
   "source": [
    "#### Sorting ( Tarteeb dena )"
   ]
  },
  {
   "cell_type": "code",
   "execution_count": 26,
   "metadata": {},
   "outputs": [
    {
     "data": {
      "text/plain": [
       "[-5, -1, 1, 2, 40, 100]"
      ]
     },
     "execution_count": 26,
     "metadata": {},
     "output_type": "execute_result"
    }
   ],
   "source": [
    "l = [1, 2, 40 , 100, -1, -5]\n",
    "\n",
    "# python built in sort - yeh inplace sort nahi hai\n",
    "sorted(l)"
   ]
  },
  {
   "cell_type": "code",
   "execution_count": 27,
   "metadata": {},
   "outputs": [
    {
     "data": {
      "text/plain": [
       "[1, 2, 40, 100, -1, -5]"
      ]
     },
     "execution_count": 27,
     "metadata": {},
     "output_type": "execute_result"
    }
   ],
   "source": [
    "# l  sorted nahi hai - yani inplace sort nahi hai\n",
    "l "
   ]
  },
  {
   "cell_type": "code",
   "execution_count": 28,
   "metadata": {},
   "outputs": [
    {
     "name": "stdout",
     "output_type": "stream",
     "text": [
      "Help on built-in function sorted in module builtins:\n",
      "\n",
      "sorted(iterable, /, *, key=None, reverse=False)\n",
      "    Return a new list containing all items from the iterable in ascending order.\n",
      "    \n",
      "    A custom key function can be supplied to customize the sort order, and the\n",
      "    reverse flag can be set to request the result in descending order.\n",
      "\n"
     ]
    }
   ],
   "source": [
    "help(sorted)"
   ]
  },
  {
   "cell_type": "code",
   "execution_count": 35,
   "metadata": {},
   "outputs": [],
   "source": [
    "l = ['a', 'A', 'b', 'B', 'x', 'y', 'b', 'f', 'F', 'i', 'I' 'a', 'Z', 'D']"
   ]
  },
  {
   "cell_type": "code",
   "execution_count": 30,
   "metadata": {},
   "outputs": [
    {
     "data": {
      "text/plain": [
       "['D', 'F', 'Ia', 'Z', 'b', 'f', 'i', 'x', 'y']"
      ]
     },
     "execution_count": 30,
     "metadata": {},
     "output_type": "execute_result"
    }
   ],
   "source": [
    "# Yeh ajeeb sa behavior de ga app ko\n",
    "sorted(l)"
   ]
  },
  {
   "cell_type": "code",
   "execution_count": 31,
   "metadata": {},
   "outputs": [
    {
     "data": {
      "text/plain": [
       "(66, 98)"
      ]
     },
     "execution_count": 31,
     "metadata": {},
     "output_type": "execute_result"
    }
   ],
   "source": [
    "ord('B'), ord('b')\n",
    "\n",
    "# Captical alphabets ke oridinal number lower hai so ye sorted may pehle aaega."
   ]
  },
  {
   "cell_type": "markdown",
   "metadata": {},
   "source": [
    "`ord()` function Python mein ek single Unicode character ko apni argument ke taur par leta hai aur uska Unicode code point return karta hai, jo ke ek integer hota hai. Misal ke taur par, ord('A') 65 return karta hai, jo ke character 'A' ka Unicode code point hai."
   ]
  },
  {
   "cell_type": "code",
   "execution_count": 37,
   "metadata": {},
   "outputs": [
    {
     "data": {
      "text/plain": [
       "['a', 'A', 'b', 'B', 'b', 'D', 'f', 'F', 'i', 'Ia', 'x', 'y', 'Z']"
      ]
     },
     "execution_count": 37,
     "metadata": {},
     "output_type": "execute_result"
    }
   ],
   "source": [
    "# sorted func may app key parameter may lambda expression ya koi bhi func user ker sake hai\n",
    "\n",
    "sorted(l, key=lambda s: s.upper())"
   ]
  },
  {
   "cell_type": "code",
   "execution_count": 48,
   "metadata": {},
   "outputs": [
    {
     "data": {
      "text/plain": [
       "{'xyz': 100, 'mno': 20, 'def': 300, 'klm': 50}"
      ]
     },
     "execution_count": 48,
     "metadata": {},
     "output_type": "execute_result"
    }
   ],
   "source": [
    "# dictionary ki misaal\n",
    "\n",
    "sorted_dict = {\n",
    "  'xyz': 100,\n",
    "  'mno': 20,\n",
    "  'def': 300,\n",
    "  'klm': 50,\n",
    "}\n",
    "\n",
    "sorted_dict"
   ]
  },
  {
   "cell_type": "code",
   "execution_count": 49,
   "metadata": {},
   "outputs": [
    {
     "name": "stdout",
     "output_type": "stream",
     "text": [
      "xyz\n",
      "mno\n",
      "def\n",
      "klm\n"
     ]
    }
   ],
   "source": [
    "for keys in sorted_dict:\n",
    "  print(keys)"
   ]
  },
  {
   "cell_type": "code",
   "execution_count": 50,
   "metadata": {},
   "outputs": [
    {
     "data": {
      "text/plain": [
       "['def', 'klm', 'mno', 'xyz']"
      ]
     },
     "execution_count": 50,
     "metadata": {},
     "output_type": "execute_result"
    }
   ],
   "source": [
    "sorted(sorted_dict)"
   ]
  },
  {
   "cell_type": "code",
   "execution_count": 52,
   "metadata": {},
   "outputs": [
    {
     "data": {
      "text/plain": [
       "['mno', 'klm', 'xyz', 'def']"
      ]
     },
     "execution_count": 52,
     "metadata": {},
     "output_type": "execute_result"
    }
   ],
   "source": [
    "# sort dictionary ki values ki base per\n",
    "\n",
    "sorted(sorted_dict, key=lambda x: sorted_dict[x])"
   ]
  },
  {
   "cell_type": "code",
   "execution_count": 53,
   "metadata": {},
   "outputs": [
    {
     "data": {
      "text/plain": [
       "['def', 'xyz', 'klm', 'mno']"
      ]
     },
     "execution_count": 53,
     "metadata": {},
     "output_type": "execute_result"
    }
   ],
   "source": [
    "# Descending order of dictionary values\n",
    "\n",
    "sorted(sorted_dict, key=lambda x: sorted_dict[x], reverse=True)"
   ]
  },
  {
   "cell_type": "code",
   "execution_count": 54,
   "metadata": {},
   "outputs": [],
   "source": [
    "# Pakistani sher ki list\n",
    "\n",
    "pakistani_cities = [\n",
    "    \"Karachi\",\n",
    "    \"Lahore\",\n",
    "    \"Islamabad\",\n",
    "    \"Faisalabad\",\n",
    "    \"Rawalpindi\",\n",
    "    \"Multan\",\n",
    "    \"Gujranwala\",\n",
    "    \"Peshawar\",\n",
    "    \"Quetta\",\n",
    "    \"Sialkot\",\n",
    "    \"Bahawalpur\",\n",
    "    \"Sukkur\",\n",
    "    \"Larkana\",\n",
    "    \"Sheikhupura\",\n",
    "    \"Rahim Yar Khan\",\n",
    "    \"Jhang\",\n",
    "    \"Dera Ghazi Khan\",\n",
    "    \"Gujrat\",\n",
    "    \"Sahiwal\",\n",
    "    \"Wah Cantonment\"\n",
    "]"
   ]
  },
  {
   "cell_type": "code",
   "execution_count": 57,
   "metadata": {},
   "outputs": [
    {
     "data": {
      "text/plain": [
       "['Gujranwala',\n",
       " 'Quetta',\n",
       " 'Larkana',\n",
       " 'Sheikhupura',\n",
       " 'Islamabad',\n",
       " 'Faisalabad',\n",
       " 'Lahore',\n",
       " 'Jhang',\n",
       " 'Karachi',\n",
       " 'Rawalpindi',\n",
       " 'Sahiwal',\n",
       " 'Multan',\n",
       " 'Rahim Yar Khan',\n",
       " 'Dera Ghazi Khan',\n",
       " 'Peshawar',\n",
       " 'Bahawalpur',\n",
       " 'Sukkur',\n",
       " 'Sialkot',\n",
       " 'Gujrat',\n",
       " 'Wah Cantonment']"
      ]
     },
     "execution_count": 57,
     "metadata": {},
     "output_type": "execute_result"
    }
   ],
   "source": [
    "# sort pakistan kay sher ki list ko unn kay akhrri harf ki base per\n",
    "\n",
    "sorted(pakistani_cities, key=lambda k: k[-1])"
   ]
  },
  {
   "cell_type": "markdown",
   "metadata": {},
   "source": [
    "## Assignment Description\n",
    "\n",
    "Aapko niche diye gaye problems solve karni hain using lambda expressions aur sorted function. Har problem ke instructions ko dhyan se parhain aur apna code likhain.\n",
    "\n",
    "### Problem 1: Square of Numbers\n",
    "\n",
    "1. Ek normal function `square` banain jo kisi bhi number ka square return kare.\n",
    "2. Is function ko ek lambda expression mein convert karein aur phir is lambda function ko ek list of numbers ke saath use karein aur har number ka square print karein.\n",
    "\n",
    "### Problem 2: Sort Tuples\n",
    "\n",
    "1. Ek list of tuples banain jahan har tuple mein do elements hon: ek string aur ek number.\n",
    "2. Ek normal function `sort_by_number` banain jo tuple ka second element return kare.\n",
    "3. Is function ko ek lambda expression mein convert karein aur phir list ko sorted function ke saath use karein.\n",
    "\n",
    "### Problem 3: Filter Even Numbers\n",
    "\n",
    "1. Ek normal function `is_even` banain jo check kare ke number even hai ya nahi.\n",
    "2. Is function ko ek lambda expression mein convert karein aur phir is lambda function ko use karte hue ek list of numbers ko filter karein aur sirf even numbers ko print karein.\n",
    "\n",
    "### Normal Functions to be Converted to Lambda\n",
    "\n",
    "#### Problem 1: Square of Numbers\n",
    "```python\n",
    "def square(x):\n",
    "    return x * x\n",
    "\n",
    "def sort_by_number(t):\n",
    "    return t[1]\n",
    "\n",
    "def is_even(x):\n",
    "    return x % 2 == 0\n",
    "\n",
    "\n",
    "```\n",
    "\n",
    "### Instructions\n",
    "* Code ko samjhein aur har function ka purpose samjhein.\n",
    "* Har normal function ko lambda expression mein convert karein."
   ]
  }
 ],
 "metadata": {
  "kernelspec": {
   "display_name": "python_eda",
   "language": "python",
   "name": "python3"
  },
  "language_info": {
   "codemirror_mode": {
    "name": "ipython",
    "version": 3
   },
   "file_extension": ".py",
   "mimetype": "text/x-python",
   "name": "python",
   "nbconvert_exporter": "python",
   "pygments_lexer": "ipython3",
   "version": "3.11.0"
  }
 },
 "nbformat": 4,
 "nbformat_minor": 2
}
