{
 "cells": [
  {
   "cell_type": "markdown",
   "metadata": {},
   "source": [
    "# Functions\n",
    "\n",
    "# Functions ka Ta'aruf\n",
    "\n",
    "Programming mein functions bohat ahem kirdar ada karti hain. Functions code ka wo hisa hoti hain jo ke kisi specific task ko anjam deti hain. Functions ka istemal se hum apne code ko reuseable aur modular bana sakte hain.\n",
    "\n",
    "## Functions kyon zaroori hain?\n",
    "\n",
    "- **Code ko Reuseable banati hain:** Functions likhne ke baad hum unhein multiple dafa call kar sakte hain bina code ko dobara likhe.\n",
    "- **Code ko Organize karti hain:** Functions ko use kar ke hum apne code ko choti choti blocks mein divide kar sakte hain jo ke manage aur samajhne mein asaan hote hain.\n",
    "- **Complex Problems ko Simplify karti hain:** Functions ko use kar ke hum complex problems ko chote chote tasks mein tod sakte hain jo ke asaan hoti hain solve karne ke liye.\n",
    "\n",
    "## Function ka Syntax\n",
    "\n",
    "Python mein function define karne ka tareeqa yeh hai:\n",
    "\n",
    "```python\n",
    "def function_name(parameters):\n",
    "    \"\"\"\n",
    "    Yeh docstring hai jo ke function ka description deti hai.\n",
    "    \"\"\"\n",
    "    # Function body yahan hoti hai\n",
    "    return result\n"
   ]
  },
  {
   "cell_type": "code",
   "execution_count": 8,
   "metadata": {},
   "outputs": [],
   "source": [
    "# Apna pehla function \n",
    "\n",
    "def mera_pehla_function():\n",
    "  return \"Salam\""
   ]
  },
  {
   "cell_type": "code",
   "execution_count": 9,
   "metadata": {},
   "outputs": [
    {
     "data": {
      "text/plain": [
       "'Salam'"
      ]
     },
     "execution_count": 9,
     "metadata": {},
     "output_type": "execute_result"
    }
   ],
   "source": [
    "# Function call yani function ko bolona \n",
    "\n",
    "mera_pehla_function()"
   ]
  },
  {
   "cell_type": "markdown",
   "metadata": {},
   "source": [
    "Note karey kai `mera_pehla_functiion` aik variable naam ki tarha hai. Yeh variable function kay object ki taraf ishara karta hai"
   ]
  },
  {
   "cell_type": "code",
   "execution_count": 11,
   "metadata": {},
   "outputs": [],
   "source": [
    "# Variable ko assign kerna \n",
    "\n",
    "mera_func = mera_pehla_function"
   ]
  },
  {
   "cell_type": "code",
   "execution_count": 12,
   "metadata": {},
   "outputs": [
    {
     "data": {
      "text/plain": [
       "'Salam'"
      ]
     },
     "execution_count": 12,
     "metadata": {},
     "output_type": "execute_result"
    }
   ],
   "source": [
    "mera_func()"
   ]
  },
  {
   "cell_type": "markdown",
   "metadata": {},
   "source": [
    "Hum asal mein aik function object create karte hain jismein body ka code hota hai, aur Python phir us object ko aik symbol mera_pehla_function ko assign kar deta hai humare code mein.\n",
    "\n",
    "Ab, yeh thoda aur complex hai, jab hum is tarah function create karte hain, toh function object jo create hota hai uske sath kuch extra data bhi attach hota hai (jo ke function body ke code ke ilawa hoti hai):\n",
    "\n",
    "* **Function ka naam:** Function ka naam bhi store hota hai jo ke humne function define karte waqt diya hota hai.\n",
    "* **Docstring:** Agar function ke ander docstring likhi gayi hai, toh wo bhi function object ka hissa ban jati hai.\n",
    "* **Default parameter values:** Agar function mein koi default parameter values di gayi hain, toh wo bhi function object ka hissa hotey hain.\n",
    "* **Closure variables:** Agar function kisi outer scope ki variables ko use kar rahi hai, toh wo variables bhi function object ke sath attach hotey hain.\n",
    "  \n",
    "Yeh sab data mil kar function object ko banati hain jo ke humare code mein aik powerful tool hota hai."
   ]
  },
  {
   "cell_type": "code",
   "execution_count": 42,
   "metadata": {},
   "outputs": [
    {
     "name": "stdout",
     "output_type": "stream",
     "text": [
      "TypeError(\"<lambda>() missing 1 required positional argument: 'y'\")\n"
     ]
    }
   ],
   "source": [
    "# map function \n",
    "\n",
    "l = [1,2,3]\n",
    "m = [2, 2, 2]\n",
    "\n",
    "try:\n",
    "  list(map(lambda x, y: x+y, l))\n",
    "except (TypeError, NameError) as ex:\n",
    "  print(repr(ex))\n",
    "  \n"
   ]
  },
  {
   "cell_type": "code",
   "execution_count": 47,
   "metadata": {},
   "outputs": [
    {
     "data": {
      "text/plain": [
       "[(1, 'a'), (2, 'b')]"
      ]
     },
     "execution_count": 47,
     "metadata": {},
     "output_type": "execute_result"
    }
   ],
   "source": [
    "list(zip([1, 2], ['a', 'b', 'c']))"
   ]
  },
  {
   "cell_type": "code",
   "execution_count": 50,
   "metadata": {},
   "outputs": [
    {
     "ename": "AttributeError",
     "evalue": "'builtin_function_or_method' object has no attribute '__annotations__'",
     "output_type": "error",
     "traceback": [
      "\u001b[0;31m---------------------------------------------------------------------------\u001b[0m",
      "\u001b[0;31mAttributeError\u001b[0m                            Traceback (most recent call last)",
      "Cell \u001b[0;32mIn[50], line 1\u001b[0m\n\u001b[0;32m----> 1\u001b[0m \u001b[38;5;28;43mprint\u001b[39;49m\u001b[38;5;241;43m.\u001b[39;49m\u001b[38;5;18;43m__annotations__\u001b[39;49m\n",
      "\u001b[0;31mAttributeError\u001b[0m: 'builtin_function_or_method' object has no attribute '__annotations__'"
     ]
    }
   ],
   "source": []
  }
 ],
 "metadata": {
  "kernelspec": {
   "display_name": "python_eda",
   "language": "python",
   "name": "python3"
  },
  "language_info": {
   "codemirror_mode": {
    "name": "ipython",
    "version": 3
   },
   "file_extension": ".py",
   "mimetype": "text/x-python",
   "name": "python",
   "nbconvert_exporter": "python",
   "pygments_lexer": "ipython3",
   "version": "3.11.0"
  }
 },
 "nbformat": 4,
 "nbformat_minor": 2
}
