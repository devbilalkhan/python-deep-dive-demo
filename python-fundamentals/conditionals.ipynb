{
 "cells": [
  {
   "cell_type": "markdown",
   "metadata": {},
   "source": [
    "### if else"
   ]
  },
  {
   "cell_type": "code",
   "execution_count": 10,
   "metadata": {},
   "outputs": [
    {
     "name": "stdout",
     "output_type": "stream",
     "text": [
      "Salam\n"
     ]
    }
   ],
   "source": [
    "if 1 < 2:\n",
    "  print(\"Salam\")\n",
    "else:\n",
    "  print(\"wsalam\")"
   ]
  },
  {
   "cell_type": "code",
   "execution_count": 11,
   "metadata": {},
   "outputs": [],
   "source": [
    "if 1 > 2:\n",
    "  print(\"Yes\")\n"
   ]
  },
  {
   "cell_type": "code",
   "execution_count": 12,
   "metadata": {},
   "outputs": [
    {
     "name": "stdout",
     "output_type": "stream",
     "text": [
      "block ki pehli line\n",
      "block ki dosri line\n",
      "block ki thesri line\n"
     ]
    }
   ],
   "source": [
    "if 1 < 2:\n",
    "  print(\"block ki pehli line\")\n",
    "  print(\"block ki dosri line\")\n",
    "  print(\"block ki thesri line\")"
   ]
  },
  {
   "cell_type": "code",
   "execution_count": 14,
   "metadata": {},
   "outputs": [
    {
     "name": "stdout",
     "output_type": "stream",
     "text": [
      "if block say bahir\n"
     ]
    }
   ],
   "source": [
    "if 1 > 2:\n",
    "  print(\"block ki pehli line\")\n",
    "  print(\"block ki dosri line\")\n",
    "  print(\"block ki thesri line\")\n",
    "print(\"if block say bahir\")"
   ]
  },
  {
   "cell_type": "code",
   "execution_count": 16,
   "metadata": {},
   "outputs": [
    {
     "name": "stdout",
     "output_type": "stream",
     "text": [
      "else ka scope\n"
     ]
    }
   ],
   "source": [
    "if 1 > 2: # False \n",
    "  print(\"block ki pehli line\")\n",
    "  print(\"block ki dosri line\")\n",
    "  print(\"block ki thesri line\")\n",
    "else:\n",
    "  print(\"else ka scope\")"
   ]
  },
  {
   "cell_type": "code",
   "execution_count": 20,
   "metadata": {},
   "outputs": [
    {
     "name": "stdout",
     "output_type": "stream",
     "text": [
      "withdrawal ok\n"
     ]
    }
   ],
   "source": [
    "account_active = True\n",
    "balance = 10000\n",
    "withdrawal = 100 \n",
    "\n",
    "if account_active and withdrawal <= balance:\n",
    "  print(\"withdrawal ok\")\n",
    "else: \n",
    "  print(\"withdrawal cancelled\")\n"
   ]
  },
  {
   "cell_type": "code",
   "execution_count": 21,
   "metadata": {},
   "outputs": [
    {
     "name": "stdout",
     "output_type": "stream",
     "text": [
      "withdrawal cancelled\n"
     ]
    }
   ],
   "source": [
    "account_active = False\n",
    "balance = 10000\n",
    "withdrawal = 100 \n",
    "\n",
    "if account_active and withdrawal <= balance:\n",
    "  print(\"withdrawal ok\")\n",
    "else: \n",
    "  print(\"withdrawal cancelled\")\n"
   ]
  },
  {
   "cell_type": "code",
   "execution_count": 22,
   "metadata": {},
   "outputs": [
    {
     "name": "stdout",
     "output_type": "stream",
     "text": [
      "withdrawal cancelled\n",
      "Oye ghareebo\n"
     ]
    }
   ],
   "source": [
    "account_active = True\n",
    "balance = 1\n",
    "withdrawal = 100 \n",
    "\n",
    "if account_active and withdrawal <= balance:\n",
    "  print(\"withdrawal ok\")\n",
    "else: \n",
    "  print(\"withdrawal cancelled\")\n",
    "  if not account_active:\n",
    "    print(\"account_disabled\")\n",
    "  else:\n",
    "    print(\"Oye ghareebo\")"
   ]
  },
  {
   "cell_type": "code",
   "execution_count": 23,
   "metadata": {},
   "outputs": [
    {
     "name": "stdout",
     "output_type": "stream",
     "text": [
      "C\n"
     ]
    }
   ],
   "source": [
    "grade = 70\n",
    "\n",
    "if grade >= 90:\n",
    "  print(\"A\")\n",
    "else:\n",
    "  if grade >= 80:\n",
    "    print(\"B\")\n",
    "  else:\n",
    "    if grade >= 70:\n",
    "      print(\"C\")\n",
    "    else:\n",
    "      if grade >= 60:\n",
    "        print(\"D\")\n",
    "      else: \n",
    "        print(\"F\")\n"
   ]
  },
  {
   "cell_type": "code",
   "execution_count": 25,
   "metadata": {},
   "outputs": [
    {
     "name": "stdout",
     "output_type": "stream",
     "text": [
      "C\n"
     ]
    }
   ],
   "source": [
    "grade = 72\n",
    "\n",
    "letter_grade = \"F\"\n",
    "\n",
    "if grade >= 60:\n",
    "  letter_grade = \"D\"\n",
    "  \n",
    "if grade >= 70:\n",
    "\n",
    "  letter_grade = \"C\"\n",
    "\n",
    "if grade >= 80:\n",
    "\n",
    "  letter_grade = \"B\"\n",
    "\n",
    "if grade >= 90:\n",
    "  letter_grade = \"A\"\n",
    "  \n",
    "print(letter_grade)"
   ]
  },
  {
   "cell_type": "code",
   "execution_count": 26,
   "metadata": {},
   "outputs": [
    {
     "name": "stdout",
     "output_type": "stream",
     "text": [
      "D\n"
     ]
    }
   ],
   "source": [
    "grade = 72\n",
    "\n",
    "letter_grade = \"F\"\n",
    "\n",
    "if grade >= 60:\n",
    "  letter_grade = \"D\"\n",
    "  \n",
    "elif grade >= 70:\n",
    "  letter_grade = \"C\"\n",
    "\n",
    "elif grade >= 80:\n",
    "  letter_grade = \"B\"\n",
    "\n",
    "if grade >= 90:\n",
    "  letter_grade = \"A\"\n",
    "  \n",
    "print(letter_grade)"
   ]
  },
  {
   "cell_type": "code",
   "execution_count": 27,
   "metadata": {},
   "outputs": [
    {
     "name": "stdout",
     "output_type": "stream",
     "text": [
      "C\n"
     ]
    }
   ],
   "source": [
    "grade = 70 \n",
    "\n",
    "if grade >= 90: \n",
    "  letter_grade = \"A\"\n",
    "elif grade >= 80: \n",
    "  letter_grade = \"B\"\n",
    "elif grade >= 70: \n",
    "  letter_grade = \"C\"\n",
    "elif grade >= 60: \n",
    "  letter_grade = \"D\"\n",
    "else:\n",
    "  letter_grade = \"F\"\n",
    "  \n",
    "print(letter_grade)"
   ]
  },
  {
   "cell_type": "code",
   "execution_count": 28,
   "metadata": {},
   "outputs": [
    {
     "name": "stdout",
     "output_type": "stream",
     "text": [
      "50\n"
     ]
    }
   ],
   "source": [
    "# Ternary Conditional operator\n",
    "\n",
    "# value if condition else \n",
    "\n",
    "price = 100\n",
    "\n",
    "if price >= 50:\n",
    "  x = 50\n",
    "else:\n",
    "  x = 90\n",
    "  \n",
    "print(x)"
   ]
  },
  {
   "cell_type": "code",
   "execution_count": 29,
   "metadata": {},
   "outputs": [
    {
     "data": {
      "text/plain": [
       "50"
      ]
     },
     "execution_count": 29,
     "metadata": {},
     "output_type": "execute_result"
    }
   ],
   "source": [
    "x = 50 if price >= 50 else 90"
   ]
  },
  {
   "cell_type": "code",
   "execution_count": 30,
   "metadata": {},
   "outputs": [],
   "source": [
    "a = 10\n",
    "b = 20 \n",
    "\n",
    "if a >= b:\n",
    "  distance = a - b\n",
    "else:\n",
    "  distance = b - a"
   ]
  },
  {
   "cell_type": "markdown",
   "metadata": {},
   "source": [
    "- if kay scope kay wali calc pehlay likhtay hai\n",
    "- if aur if ki condition \n",
    "- else aur else calc "
   ]
  },
  {
   "cell_type": "code",
   "execution_count": 31,
   "metadata": {},
   "outputs": [],
   "source": [
    "distance = a - b if a >= b else b - a"
   ]
  },
  {
   "cell_type": "code",
   "execution_count": 32,
   "metadata": {},
   "outputs": [
    {
     "data": {
      "text/plain": [
       "10"
      ]
     },
     "execution_count": 32,
     "metadata": {},
     "output_type": "execute_result"
    }
   ],
   "source": [
    "distance"
   ]
  },
  {
   "cell_type": "code",
   "execution_count": 33,
   "metadata": {},
   "outputs": [],
   "source": [
    "current_value = 100\n",
    "running_total = 5000\n",
    "\n",
    "\n",
    "taken_value = 0 if current_value == -999 else current_value"
   ]
  },
  {
   "cell_type": "code",
   "execution_count": null,
   "metadata": {},
   "outputs": [],
   "source": [
    "if current_value == -999:\n",
    "  taken_value = 0\n",
    "else:\n",
    "  taken_value = current_value"
   ]
  },
  {
   "cell_type": "code",
   "execution_count": 35,
   "metadata": {},
   "outputs": [
    {
     "data": {
      "text/plain": [
       "5100"
      ]
     },
     "execution_count": 35,
     "metadata": {},
     "output_type": "execute_result"
    }
   ],
   "source": [
    "current_value = 100\n",
    "running_total = 5000\n",
    "\n",
    "\n",
    "taken_value = running_total + (0 if current_value == -999 else current_value)\n",
    "\n",
    "taken_value"
   ]
  },
  {
   "cell_type": "code",
   "execution_count": 38,
   "metadata": {},
   "outputs": [],
   "source": [
    "def mera_func(a, b, *, d):\n",
    "  \n",
    "  print(a, b, d)\n",
    "  \n",
    "def mera_func2(a, b, *args, d=10):\n",
    "  print(a, b, args, d)\n",
    "  \n",
    "def mera_func(*args, **kwargs):\n",
    "  print(args, kwargs)\n",
    "\n",
    "# positional arguments\n",
    "# keyword arguments\n",
    "\n",
    "# parameters aur argument\n",
    "\n",
    "# function scope aur global scope\n",
    "\n",
    "# function callable \n",
    "  "
   ]
  }
 ],
 "metadata": {
  "kernelspec": {
   "display_name": "python_eda",
   "language": "python",
   "name": "python3"
  },
  "language_info": {
   "codemirror_mode": {
    "name": "ipython",
    "version": 3
   },
   "file_extension": ".py",
   "mimetype": "text/x-python",
   "name": "python",
   "nbconvert_exporter": "python",
   "pygments_lexer": "ipython3",
   "version": "3.11.0"
  }
 },
 "nbformat": 4,
 "nbformat_minor": 2
}
