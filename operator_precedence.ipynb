{
 "cells": [
  {
   "cell_type": "markdown",
   "metadata": {},
   "source": [
    "#### Operator Precendence:\n",
    "\n",
    "Operator precedence, yaani \"operator tarjeeh\", programming mein ek aham concept hai jo ketha hai ke agar ek expression mein multiple operators hain to pehle kaun sa operator execute hoga. Ye rules determine karte hain ke expressions ko kis tarteeb se evaluate kiya jaye ga, taake unka sahi matlab samjha ja sake.\n",
    "\n",
    "Maslan, mathematical expressions mein, zarb (*) aur taqseem (/) ka amal jama (+) aur tafreeq (-) se pehle hota hai, kyun ke zarb aur taqseem ka operator precedence zyada hota hai. Isi tarah, programming languages mein bhi, har operator ka ek specific precedence hota hai, jo ke language ke documentation mein defined hota hai."
   ]
  },
  {
   "cell_type": "code",
   "execution_count": 1,
   "metadata": {},
   "outputs": [
    {
     "data": {
      "text/plain": [
       "15"
      ]
     },
     "execution_count": 1,
     "metadata": {},
     "output_type": "execute_result"
    }
   ],
   "source": [
    "(10 - 5) + 10"
   ]
  },
  {
   "cell_type": "code",
   "execution_count": 10,
   "metadata": {},
   "outputs": [
    {
     "data": {
      "text/plain": [
       "65"
      ]
     },
     "execution_count": 10,
     "metadata": {},
     "output_type": "execute_result"
    }
   ],
   "source": [
    "10 * 4 + 5 * 5"
   ]
  },
  {
   "cell_type": "code",
   "execution_count": 12,
   "metadata": {},
   "outputs": [
    {
     "name": "stdout",
     "output_type": "stream",
     "text": [
      "7\n"
     ]
    }
   ],
   "source": [
    "# Addition and Subtraction (Left-to-Right)\n",
    "\n",
    "result = 10 - 4 + 3 - 2\n",
    "print(result)"
   ]
  },
  {
   "cell_type": "code",
   "execution_count": 3,
   "metadata": {},
   "outputs": [
    {
     "name": "stdout",
     "output_type": "stream",
     "text": [
      "14\n"
     ]
    }
   ],
   "source": [
    "# Is example mein, 3 * 4 pehle evaluate hoga kyunke zarb (*) \n",
    "# ka operator precedence zyada hai. Phir uske baad 2 add kiya jata hai.\n",
    "\n",
    "result = 2 + 3 * 4\n",
    "print(result)"
   ]
  },
  {
   "cell_type": "code",
   "execution_count": 4,
   "metadata": {},
   "outputs": [
    {
     "name": "stdout",
     "output_type": "stream",
     "text": [
      "20\n"
     ]
    }
   ],
   "source": [
    "# Is example mein, parentheses ( ) ke vajah se 2 + 3 pehle evaluate hota hai,\n",
    "# aur phir uska result 4 se multiply hota hai.\n",
    "\n",
    "result = (2 + 3) * 4\n",
    "print(result)"
   ]
  },
  {
   "cell_type": "code",
   "execution_count": 5,
   "metadata": {},
   "outputs": [
    {
     "name": "stdout",
     "output_type": "stream",
     "text": [
      "7.0\n"
     ]
    }
   ],
   "source": [
    "result = 2 + 3 * 4 / 2 - 1\n",
    "print(result)"
   ]
  },
  {
   "cell_type": "markdown",
   "metadata": {},
   "source": [
    "Is example mein:\n",
    "\n",
    "* 3 * 4 pehle evaluate hota hai (result: 12)\n",
    "* Phir 12 / 2 evaluate hota hai (result: 6.0)\n",
    "* Phir 2 + 6.0 (result: 8.0)\n",
    "* Aur phir 8.0 - 1 (final result: 7.0)"
   ]
  },
  {
   "cell_type": "code",
   "execution_count": 6,
   "metadata": {},
   "outputs": [
    {
     "name": "stdout",
     "output_type": "stream",
     "text": [
      "21.0\n"
     ]
    }
   ],
   "source": [
    "result = 5 + 2 * 3 ** 2 - 4 / 2\n",
    "print(result)"
   ]
  },
  {
   "cell_type": "markdown",
   "metadata": {},
   "source": [
    "Is example mein:\n",
    "\n",
    "* 3 ** 2 pehle evaluate hota hai kyunke exponentiation (**) ka operator precedence sabse zyada hai (result: 9)\n",
    "* Phir 2 * 9 evaluate hota hai kyunke multiplication (*) exponentiation ke baad aata hai (result: 18)\n",
    "* Phir 4 / 2 evaluate hota hai kyunke division (/) ka precedence addition (+) aur subtraction (-) se zyada hai (result: 2.0)\n",
    "* Phir 5 + 18 evaluate hota hai (result: 23)\n",
    "* Aur phir 23 - 2.0 (final result: 21.0)"
   ]
  },
  {
   "cell_type": "code",
   "execution_count": 7,
   "metadata": {},
   "outputs": [
    {
     "name": "stdout",
     "output_type": "stream",
     "text": [
      "9.0\n"
     ]
    }
   ],
   "source": [
    "result = (8 / 4) ** (3 - 1) * 2 + 1\n",
    "print(result)"
   ]
  },
  {
   "cell_type": "markdown",
   "metadata": {},
   "source": [
    "Is example mein:\n",
    "\n",
    "* Parentheses sabse pehle evaluate hote hain:\n",
    "  * 8 / 4 (result: 2.0)\n",
    "  * 3 - 1 (result: 2)\n",
    "* Phir 2.0 ** 2 evaluate hota hai (result: 4.0)\n",
    "* Phir 4.0 * 2 (result: 8.0)\n",
    "* Aur phir 8.0 + 1 (final result: 9.0)"
   ]
  },
  {
   "cell_type": "code",
   "execution_count": 8,
   "metadata": {},
   "outputs": [
    {
     "name": "stdout",
     "output_type": "stream",
     "text": [
      "8.0\n"
     ]
    }
   ],
   "source": [
    "result = (3 + 5) * (2 ** 2) / ((4 - 2) ** 2)\n",
    "print(result)"
   ]
  },
  {
   "cell_type": "markdown",
   "metadata": {},
   "source": [
    "Is example mein:\n",
    "\n",
    "* Innermost parentheses pehle evaluate hote hain:\n",
    "  * (3 + 5) (result: 8)\n",
    "  * (2 ** 2) (result: 4)\n",
    "  * (4 - 2) (result: 2)\n",
    "* Phir outer parentheses evaluate hote hain:\n",
    "  * 2 ** 2 (result: 4)\n",
    "* Phir 8 * 4 evaluate hota hai (result: 32)\n",
    "* Aur phir 32 / 4 (final result: 8.0)"
   ]
  },
  {
   "cell_type": "code",
   "execution_count": 9,
   "metadata": {},
   "outputs": [
    {
     "name": "stdout",
     "output_type": "stream",
     "text": [
      "True\n"
     ]
    }
   ],
   "source": [
    "result = (3 > 2) and (2 < 5) or not (1 == 1)\n",
    "print(result)"
   ]
  },
  {
   "cell_type": "markdown",
   "metadata": {},
   "source": [
    "Is example mein:\n",
    "\n",
    "* Comparison operators pehle evaluate hote hain:\n",
    "  * 3 > 2 (result: True)\n",
    "  * 2 < 5 (result: True)\n",
    "  * 1 == 1 (result: True)\n",
    "* Phir not operator apply hota hai:\n",
    "  * not (True) (result: False)\n",
    "* Phir and operator evaluate hota hai:\n",
    "  * True and True (result: True)\n",
    "* Aur phir or operator evaluate hota hai:\n",
    "  * True or False (final result: True)"
   ]
  }
 ],
 "metadata": {
  "kernelspec": {
   "display_name": "python_eda",
   "language": "python",
   "name": "python3"
  },
  "language_info": {
   "codemirror_mode": {
    "name": "ipython",
    "version": 3
   },
   "file_extension": ".py",
   "mimetype": "text/x-python",
   "name": "python",
   "nbconvert_exporter": "python",
   "pygments_lexer": "ipython3",
   "version": "3.11.0"
  }
 },
 "nbformat": 4,
 "nbformat_minor": 2
}
