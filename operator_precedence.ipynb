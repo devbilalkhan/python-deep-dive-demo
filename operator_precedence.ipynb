{
 "cells": [
  {
   "cell_type": "markdown",
   "metadata": {},
   "source": [
    "#### Operator Precendence:\n",
    "\n",
    "Operator precedence, yaani \"operator tarjeeh\", programming mein ek aham concept hai jo ketha hai ke agar ek expression mein multiple operators hain to pehle kaun sa operator execute hoga. Ye rules determine karte hain ke expressions ko kis tarteeb se evaluate kiya jaye ga, taake unka sahi matlab samjha ja sake.\n",
    "\n",
    "Maslan, mathematical expressions mein, zarb (*) aur taqseem (/) ka amal jama (+) aur tafreeq (-) se pehle hota hai, kyun ke zarb aur taqseem ka operator precedence zyada hota hai. Isi tarah, programming languages mein bhi, har operator ka ek specific precedence hota hai, jo ke language ke documentation mein defined hota hai."
   ]
  },
  {
   "cell_type": "code",
   "execution_count": 16,
   "metadata": {},
   "outputs": [
    {
     "data": {
      "text/plain": [
       "15"
      ]
     },
     "execution_count": 16,
     "metadata": {},
     "output_type": "execute_result"
    }
   ],
   "source": [
    "# Is expression mein, pehle bracket ke andar ka operation execute hoga, yani (10 - 5) ko pehle calculate kiya jayega.\n",
    "# Phir, uska result, jo ke 5 hoga, ko 10 ke sath jama kiya jayega.\n",
    "# End mein, humein total 15 ka result milega.\n",
    "\n",
    "(10 - 5) + 10 "
   ]
  },
  {
   "cell_type": "code",
   "execution_count": 17,
   "metadata": {},
   "outputs": [
    {
     "data": {
      "text/plain": [
       "65"
      ]
     },
     "execution_count": 17,
     "metadata": {},
     "output_type": "execute_result"
    }
   ],
   "source": [
    "# Mutiplication ko bartari hasil addition per\n",
    "\n",
    "10 * 4 + 5 * 5"
   ]
  },
  {
   "cell_type": "code",
   "execution_count": 12,
   "metadata": {},
   "outputs": [
    {
     "name": "stdout",
     "output_type": "stream",
     "text": [
      "7\n"
     ]
    }
   ],
   "source": [
    "# Addition and Subtraction (Left-to-Right)\n",
    "\n",
    "result = 10 - 4 + 3 - 2\n",
    "print(result)"
   ]
  },
  {
   "cell_type": "markdown",
   "metadata": {},
   "source": [
    "Is example mein:\n",
    "\n",
    "* Subtraction aur addition left-to-right evaluate hote hain:\n",
    "  * 10 - 4 (result: 6)\n",
    "  * 6 + 3 (result: 9)\n",
    "  * 9 - 2 (final result: 7)"
   ]
  },
  {
   "cell_type": "code",
   "execution_count": 14,
   "metadata": {},
   "outputs": [
    {
     "name": "stdout",
     "output_type": "stream",
     "text": [
      "5.0\n"
     ]
    }
   ],
   "source": [
    "# Multiplication and Division (Left-to-Right)\n",
    "\n",
    "result = 20 / 4 * 2 / 2\n",
    "print(result)"
   ]
  },
  {
   "cell_type": "markdown",
   "metadata": {},
   "source": [
    "Is example mein:\n",
    "\n",
    "* Division aur multiplication left-to-right evaluate hote hain:\n",
    "  * 20 / 4 (result: 5.0)\n",
    "  * 5.0 * 2 (result: 10.0)\n",
    "  * 10.0 / 2 (final result: 5.0)"
   ]
  },
  {
   "cell_type": "code",
   "execution_count": 3,
   "metadata": {},
   "outputs": [
    {
     "name": "stdout",
     "output_type": "stream",
     "text": [
      "14\n"
     ]
    }
   ],
   "source": [
    "# Is example mein, 3 * 4 pehle evaluate hoga kyunke zarb (*) \n",
    "# ka operator precedence zyada hai. Phir uske baad 2 add kiya jata hai.\n",
    "\n",
    "result = 2 + 3 * 4\n",
    "print(result)"
   ]
  },
  {
   "cell_type": "code",
   "execution_count": 4,
   "metadata": {},
   "outputs": [
    {
     "name": "stdout",
     "output_type": "stream",
     "text": [
      "20\n"
     ]
    }
   ],
   "source": [
    "# Is example mein, parentheses ( ) ke vajah se 2 + 3 pehle evaluate hota hai,\n",
    "# aur phir uska result 4 se multiply hota hai.\n",
    "\n",
    "result = (2 + 3) * 4\n",
    "print(result)"
   ]
  },
  {
   "cell_type": "code",
   "execution_count": 5,
   "metadata": {},
   "outputs": [
    {
     "name": "stdout",
     "output_type": "stream",
     "text": [
      "7.0\n"
     ]
    }
   ],
   "source": [
    "result = 2 + 3 * 4 / 2 - 1\n",
    "print(result)"
   ]
  },
  {
   "cell_type": "markdown",
   "metadata": {},
   "source": [
    "Is example mein:\n",
    "\n",
    "* 3 * 4 pehle evaluate hota hai (result: 12)\n",
    "* Phir 12 / 2 evaluate hota hai (result: 6.0)\n",
    "* Phir 2 + 6.0 (result: 8.0)\n",
    "* Aur phir 8.0 - 1 (final result: 7.0)"
   ]
  },
  {
   "cell_type": "code",
   "execution_count": 6,
   "metadata": {},
   "outputs": [
    {
     "name": "stdout",
     "output_type": "stream",
     "text": [
      "21.0\n"
     ]
    }
   ],
   "source": [
    "# Expression Multiple Operators ke sath\n",
    "\n",
    "result = 5 + 2 * 3 ** 2 - 4 / 2\n",
    "print(result)"
   ]
  },
  {
   "cell_type": "markdown",
   "metadata": {},
   "source": [
    "Is example mein:\n",
    "\n",
    "* 3 ** 2 pehle evaluate hota hai kyunke exponentiation (**) ka operator precedence sabse zyada hai (result: 9)\n",
    "* Phir 2 * 9 evaluate hota hai kyunke multiplication (*) exponentiation ke baad aata hai (result: 18)\n",
    "* Phir 4 / 2 evaluate hota hai kyunke division (/) ka precedence addition (+) aur subtraction (-) se zyada hai (result: 2.0)\n",
    "* Phir 5 + 18 evaluate hota hai (result: 23)\n",
    "* Aur phir 23 - 2.0 (final result: 21.0)"
   ]
  },
  {
   "cell_type": "code",
   "execution_count": 7,
   "metadata": {},
   "outputs": [
    {
     "name": "stdout",
     "output_type": "stream",
     "text": [
      "9.0\n"
     ]
    }
   ],
   "source": [
    "# Expression  Parentheses aur Different Operators ke sath\n",
    "\n",
    "result = (8 / 4) ** (3 - 1) * 2 + 1\n",
    "print(result)"
   ]
  },
  {
   "cell_type": "markdown",
   "metadata": {},
   "source": [
    "Is example mein:\n",
    "\n",
    "* Parentheses sabse pehle evaluate hote hain:\n",
    "  * 8 / 4 (result: 2.0)\n",
    "  * 3 - 1 (result: 2)\n",
    "* Phir 2.0 ** 2 evaluate hota hai (result: 4.0)\n",
    "* Phir 4.0 * 2 (result: 8.0)\n",
    "* Aur phir 8.0 + 1 (final result: 9.0)"
   ]
  },
  {
   "cell_type": "code",
   "execution_count": 8,
   "metadata": {},
   "outputs": [
    {
     "name": "stdout",
     "output_type": "stream",
     "text": [
      "8.0\n"
     ]
    }
   ],
   "source": [
    "result = (3 + 5) * (2 ** 2) / ((4 - 2) ** 2)\n",
    "print(result)"
   ]
  },
  {
   "cell_type": "markdown",
   "metadata": {},
   "source": [
    "Is example mein:\n",
    "\n",
    "* Innermost parentheses pehle evaluate hote hain:\n",
    "  * (3 + 5) (result: 8)\n",
    "  * (2 ** 2) (result: 4)\n",
    "  * (4 - 2) (result: 2)\n",
    "* Phir outer parentheses evaluate hote hain:\n",
    "  * 2 ** 2 (result: 4)\n",
    "* Phir 8 * 4 evaluate hota hai (result: 32)\n",
    "* Aur phir 32 / 4 (final result: 8.0)"
   ]
  },
  {
   "cell_type": "code",
   "execution_count": 9,
   "metadata": {},
   "outputs": [
    {
     "name": "stdout",
     "output_type": "stream",
     "text": [
      "True\n"
     ]
    }
   ],
   "source": [
    "result = (3 > 2) and (2 < 5) or not (1 == 1)\n",
    "print(result)"
   ]
  },
  {
   "cell_type": "markdown",
   "metadata": {},
   "source": [
    "Is example mein:\n",
    "\n",
    "* Comparison operators pehle evaluate hote hain:\n",
    "  * 3 > 2 (result: True)\n",
    "  * 2 < 5 (result: True)\n",
    "  * 1 == 1 (result: True)\n",
    "* Phir not operator apply hota hai:\n",
    "  * not (True) (result: False)\n",
    "* Phir and operator evaluate hota hai:\n",
    "* True and True (result: True)\n",
    "* Aur phir or operator evaluate hota hai:\n",
    "* True or False (final result: True)"
   ]
  },
  {
   "cell_type": "code",
   "execution_count": 19,
   "metadata": {},
   "outputs": [
    {
     "name": "stdout",
     "output_type": "stream",
     "text": [
      "True\n"
     ]
    }
   ],
   "source": [
    "# Combination of Arithmetic and Comparison (Left-to-Right)\n",
    "\n",
    "result = 10 + 3 > 10 - 5\n",
    "print(result)"
   ]
  },
  {
   "cell_type": "markdown",
   "metadata": {},
   "source": [
    "Is example mein:\n",
    "\n",
    "* Arithmetic operations pehle evaluate hote hain left-to-right:\n",
    "  * 10 + 3 (result: 13)\n",
    "  * 10 - 5 (result: 5)\n",
    "* then comparison operator apply hota hai:\n",
    "  * 13 > 5 (final result: True)"
   ]
  },
  {
   "cell_type": "code",
   "execution_count": 21,
   "metadata": {},
   "outputs": [
    {
     "name": "stdout",
     "output_type": "stream",
     "text": [
      "3\n"
     ]
    }
   ],
   "source": [
    "# Bitwise Operations (Left-to-Right)\n",
    "\n",
    "result = 10 & 3 | 2 ^ 1\n",
    "print(result)"
   ]
  },
  {
   "cell_type": "markdown",
   "metadata": {},
   "source": [
    "Is example mein:\n",
    "\n",
    "* Bitwise operators left-to-right evaluate hote hain:\n",
    "  * 10 & 3 (result: 2)\n",
    "  * 2 | 2 (result: 2)\n",
    "  * 2 ^ 1 (final result: 3)"
   ]
  },
  {
   "cell_type": "code",
   "execution_count": 22,
   "metadata": {},
   "outputs": [
    {
     "name": "stdout",
     "output_type": "stream",
     "text": [
      "True\n"
     ]
    }
   ],
   "source": [
    "# Logical Operators (Left-to-Right)\n",
    "\n",
    "result = True or False and False\n",
    "print(result)"
   ]
  },
  {
   "cell_type": "markdown",
   "metadata": {},
   "source": [
    "Is example mein:\n",
    "\n",
    "* Logical operators left-to-right evaluate hote hain:\n",
    "  * False and False pehle evaluate hota hai (result: False)\n",
    "  * True or False phir evaluate hota hai (final result: True)"
   ]
  },
  {
   "cell_type": "code",
   "execution_count": 23,
   "metadata": {},
   "outputs": [
    {
     "name": "stdout",
     "output_type": "stream",
     "text": [
      "True\n"
     ]
    }
   ],
   "source": [
    "# Multiple Logical Operators (Left-to-Right)\n",
    "\n",
    "result = (3 > 2) and (2 < 5) or (1 == 2) and not (4 <= 4)\n",
    "print(result)"
   ]
  },
  {
   "cell_type": "markdown",
   "metadata": {},
   "source": [
    "Is example mein:\n",
    "\n",
    "* Logical operators left-to-right evaluate hote hain:\n",
    "  * 3 > 2 (result: True)\n",
    "  * 2 < 5 (result: True)\n",
    "  * 1 == 2 (result: False)\n",
    "  * 4 <= 4 (result: True)\n",
    "  * not True (result: False)\n",
    "  * False and False (result: False)\n",
    "  * True and True (result: True)\n",
    "  * True or False (final result: True)"
   ]
  },
  {
   "cell_type": "markdown",
   "metadata": {},
   "source": [
    "#### Assignment"
   ]
  },
  {
   "cell_type": "code",
   "execution_count": null,
   "metadata": {},
   "outputs": [],
   "source": [
    "# Assignment 1: Operator Precedence\n",
    "# Calculate the result of the following expression:\n",
    "# 3 + 5 * 2\n",
    "# Assign the result to the variable `result1` and print it.\n",
    "\n",
    "result1 = \n",
    "\n",
    "# Assignment 2: Parentheses\n",
    "# Calculate the result of the following expression using parentheses to alter precedence:\n",
    "# (3 + 5) * 2\n",
    "# Assign the result to the variable `result2` and print it.\n",
    "\n",
    "result2 = \n",
    "\n",
    "# Assignment 3: Mixed Operators\n",
    "# Calculate the result of the following expression:\n",
    "# 4 + 3 * 2 - 8 / 4\n",
    "# Assign the result to the variable `result3` and print it.\n",
    "\n",
    "result3 = \n",
    "\n",
    "# Assignment 4: Left-to-Right Evaluation\n",
    "# Calculate the result of the following expression:\n",
    "# 20 / 4 * 2\n",
    "# Assign the result to the variable `result4` and print it.\n",
    "\n",
    "result4 = \n",
    "\n",
    "# Assignment 5: Complex Expression\n",
    "# Calculate the result of the following expression:\n",
    "# 5 + 2 ** 3 * (6 / 3)\n",
    "# Assign the result to the variable `result5` and print it.\n",
    "\n",
    "result5 = \n",
    "\n",
    "# Assignment 6: Nested Parentheses\n",
    "# Calculate the result of the following expression:\n",
    "# (5 + (2 ** 2) * 3) - (8 / 2)\n",
    "# Assign the result to the variable `result6` and print it.\n",
    "\n",
    "result6 = \n"
   ]
  }
 ],
 "metadata": {
  "kernelspec": {
   "display_name": "python_eda",
   "language": "python",
   "name": "python3"
  },
  "language_info": {
   "codemirror_mode": {
    "name": "ipython",
    "version": 3
   },
   "file_extension": ".py",
   "mimetype": "text/x-python",
   "name": "python",
   "nbconvert_exporter": "python",
   "pygments_lexer": "ipython3",
   "version": "3.11.0"
  }
 },
 "nbformat": 4,
 "nbformat_minor": 2
}
